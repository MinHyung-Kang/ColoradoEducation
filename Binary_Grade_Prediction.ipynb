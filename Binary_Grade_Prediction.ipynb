{
 "cells": [
  {
   "cell_type": "markdown",
   "metadata": {},
   "source": [
    "### 1. Get Data"
   ]
  },
  {
   "cell_type": "markdown",
   "metadata": {},
   "source": [
    "#### a. get dataTypes"
   ]
  },
  {
   "cell_type": "code",
   "execution_count": 7,
   "metadata": {
    "collapsed": false
   },
   "outputs": [],
   "source": [
    "import numpy as np\n",
    "import sys\n",
    "\n",
    "data_2010_type = np.loadtxt(\"./CleanedData/Data_2010_Type.csv\", delimiter = \",\", dtype=\"string\")\n",
    "data_2011_type = np.loadtxt(\"./CleanedData/Data_2011_Type.csv\", delimiter = \",\", dtype=\"string\")\n",
    "data_2012_type = np.loadtxt(\"./CleanedData/Data_2012_Type.csv\", delimiter = \",\", dtype=\"string\")\n",
    "\n",
    "#print(data_2010_type)\n",
    "#print(data_2011_type)\n",
    "#print(data_2012_type)\n"
   ]
  },
  {
   "cell_type": "markdown",
   "metadata": {},
   "source": [
    "#### b. Get column Names"
   ]
  },
  {
   "cell_type": "code",
   "execution_count": 6,
   "metadata": {
    "collapsed": false
   },
   "outputs": [],
   "source": [
    "data_2010_name = np.loadtxt(\"./CleanedData/Data_2010_Names.csv\", delimiter = \",\", dtype=\"string\")\n",
    "\n",
    "#print(data_2010_name)"
   ]
  },
  {
   "cell_type": "markdown",
   "metadata": {},
   "source": [
    "#### c. Load Data"
   ]
  },
  {
   "cell_type": "code",
   "execution_count": 13,
   "metadata": {
    "collapsed": false
   },
   "outputs": [
    {
     "name": "stdout",
     "output_type": "stream",
     "text": [
      "(2082L, 36L)\n",
      "(2069L, 36L)\n",
      "(1962L, 36L)\n",
      "(6113L, 36L)\n"
     ]
    }
   ],
   "source": [
    "data_2010_raw = np.loadtxt(\"./CleanedData/Data_2010.csv\",  delimiter=',', dtype=str)\n",
    "data_2011_raw = np.loadtxt(\"./CleanedData/Data_2011.csv\",  delimiter=',', dtype=str)\n",
    "data_2012_raw = np.loadtxt(\"./CleanedData/Data_2012.csv\",  delimiter=',', dtype=str)\n",
    "\n",
    "#print data_2010_raw[0,:]\n",
    "#print data_2011_raw[0,:]\n",
    "#print data_2012_raw[0,:]\n",
    "print data_2010_raw.shape\n",
    "print data_2011_raw.shape\n",
    "print data_2012_raw.shape\n",
    "\n",
    "\n",
    "#Use this If we want to combine the data\n",
    "data = np.append(data_2010_raw, data_2011_raw, axis=0)\n",
    "data = np.append(data, data_2012_raw, axis=0)\n",
    "print data.shape\n",
    "\n",
    "num_records = data.shape[0]\n",
    "num_features = data.shape[1]"
   ]
  },
  {
   "cell_type": "code",
   "execution_count": 15,
   "metadata": {
    "collapsed": false
   },
   "outputs": [
    {
     "name": "stdout",
     "output_type": "stream",
     "text": [
      "(6113L, 36L)\n",
      "[  1.00000000e+01  -1.00000000e+00  -1.00000000e+00   8.80000000e+02\n",
      "  -1.00000000e+00  -1.00000000e+00   0.00000000e+00   5.00000000e+00\n",
      "   2.85000000e+02   3.00000000e+00   3.00000000e+00   5.00000000e+00\n",
      "   3.00000000e+00   2.00000000e+00   7.00000000e+00   7.00000000e+00\n",
      "   6.00000000e+00   7.00000000e+00   6.59000000e+01   3.00000000e+00\n",
      "   2.00000000e+00   1.00000000e+00   0.00000000e+00   0.00000000e+00\n",
      "   0.00000000e+00   0.00000000e+00   1.93000000e+03   9.32642500e-01\n",
      "   2.90155440e+00   9.84456000e-01   9.16580311e+01   3.16062180e+00\n",
      "   5.18135000e-02   3.10880800e-01   9.30000000e+01   0.00000000e+00]\n"
     ]
    }
   ],
   "source": [
    "data_numeric = np.zeros((num_records,num_features))\n",
    "\n",
    "for j in range(num_features-1):\n",
    "    type = data_2010_type[j].lstrip('\"').rstrip('\"')\n",
    "    if type =='numeric':\n",
    "        for i in range(num_records) : \n",
    "            val = data[i][j].lstrip(\"'\").rstrip(\"'\")\n",
    "            if(val != 'NA') : \n",
    "                data_numeric[i,j] = float(val)\n",
    "            else : \n",
    "                data_numeric[i,j] = -1\n",
    "    elif type == 'integer':\n",
    "        for i in range(num_records) : \n",
    "            val = data[i][j].lstrip(\"'\").rstrip(\"'\")\n",
    "            if(val != 'NA') : \n",
    "                data_numeric[i,j] = int(val)\n",
    "            else : \n",
    "                data_numeric[i,j] = -1\n",
    "    else : \n",
    "        string_to_num = {}\n",
    "        dummy = 0\n",
    "        for i in range(num_records) : \n",
    "            key =data[i][j].lstrip(\"'\").rstrip(\"'\") \n",
    "            if(key == 'NA' or key.isspace) : \n",
    "                data_numeric[i,j] = -1\n",
    "            elif key in string_to_num.keys():\n",
    "                data_numeric[i,j] = string_to_num[key]\n",
    "            else :\n",
    "                string_to_num[key] = dummy\n",
    "                data_numeric[i,j] = dummy\n",
    "                dummy += 1\n",
    "                \n",
    "print data_numeric.shape\n",
    "print data_numeric[0,:]"
   ]
  },
  {
   "cell_type": "markdown",
   "metadata": {},
   "source": [
    "#### d. Load Codebook"
   ]
  },
  {
   "cell_type": "code",
   "execution_count": 16,
   "metadata": {
    "collapsed": false
   },
   "outputs": [
    {
     "data": {
      "text/plain": [
       "array([['SchoolNumber', 'Integer of School (Unique)'],\n",
       "       ['EMH', 'E(Elementary) M(Middle) H(High)'],\n",
       "       ['SchoolName', 'String of School Name'],\n",
       "       ['DistrictNumber', 'Integer of District'],\n",
       "       ['DistrictName', 'String of District Name'],\n",
       "       ['EMHcombined',\n",
       "        'EM / MH/ EMH (Combination of E/M/H to show which grades this school has or empty if only one school)'],\n",
       "       ['AlternativeSchool', '1 - 2 (1 : Yes / 2 : No)'],\n",
       "       ['SchoolGrade', '1 - 13 (13 being A+  1 being F)'],\n",
       "       ['RankTotal', 'Total ranking out of all schools'],\n",
       "       ['OverallAchievedGrade', '1 - 13 (13 being A+  1 being F)'],\n",
       "       ['ReadingAchievedGrade', '1 - 13 (13 being A+  1 being F)'],\n",
       "       ['MathAchievedGrade', '1 - 13 (13 being A+  1 being F)'],\n",
       "       ['WritingAchievedGrade', '1 - 13 (13 being A+  1 being F)'],\n",
       "       ['ScienceAcheivedGrade', '1 - 13 (13 being A+  1 being F)'],\n",
       "       ['OverallGrowthGrade', '1 - 13 (13 being A+  1 being F)'],\n",
       "       ['ReadingGrowthGrade', '1 - 13 (13 being A+  1 being F)'],\n",
       "       ['MathGrowthGrade', '1 - 13 (13 being A+  1 being F)'],\n",
       "       ['WritingGrowthGrade', '1 - 13 (13 being A+  1 being F)'],\n",
       "       ['GraduationRate', 'Percent'],\n",
       "       ['ProficiencyTrend',\n",
       "        '1 - 3 (1 : Arrow Down 2 : Arrow Flat 3 : Arrow Up)'],\n",
       "       ['GrowthTrend', '1 - 3 (1 : Arrow Down 2 : Arrow Flat 3 : Arrow Up)'],\n",
       "       ['OverallTrend',\n",
       "        '1 - 3 (1 : Arrow Down 2 : Arrow Flat 3 : Arrow Up)'],\n",
       "       ['ACTEnglish', '1 - 2 (1 : Yes /  2 : No)'],\n",
       "       ['ACTMath', '1 - 2 (1 : Yes /  2 : No)'],\n",
       "       ['ACTReading', '1 - 2 (1 : Yes /  2 : No)'],\n",
       "       ['ACTScience', '1 - 2 (1 : Yes /  2 : No)'],\n",
       "       ['TotalStudents', 'Number of students'],\n",
       "       ['PercentAmericanIndian', 'Percent'],\n",
       "       ['PercentAsian', 'Percent'],\n",
       "       ['PercentBlack', 'Percent'],\n",
       "       ['PercentHispanic', 'Percent'],\n",
       "       ['PercentWhite', 'Percent'],\n",
       "       ['PercentPacificIslander', 'Percent'],\n",
       "       ['PercentTwoOrMoreRace', 'Percent'],\n",
       "       ['PercentFreeOrReducedLunch', 'Percent'],\n",
       "       ['RemediationRate', 'Percent']], \n",
       "      dtype='|S100')"
      ]
     },
     "execution_count": 16,
     "metadata": {},
     "output_type": "execute_result"
    }
   ],
   "source": [
    "data_codebook = np.loadtxt(\"./CleanedData/Data_2010_CodeBook.csv\", delimiter = \",\", dtype=\"string\",skiprows=1)\n",
    "data_codebook"
   ]
  },
  {
   "cell_type": "markdown",
   "metadata": {},
   "source": [
    "### 2. Parse/clean data\n",
    "Get columns of interest, make the grade a binary variable"
   ]
  },
  {
   "cell_type": "markdown",
   "metadata": {},
   "source": [
    "#### a. Get columns of interest"
   ]
  },
  {
   "cell_type": "code",
   "execution_count": 18,
   "metadata": {
    "collapsed": false
   },
   "outputs": [
    {
     "data": {
      "text/plain": [
       "array(['PercentFreeOrReducedLunch', 'Percent'], \n",
       "      dtype='|S100')"
      ]
     },
     "execution_count": 18,
     "metadata": {},
     "output_type": "execute_result"
    }
   ],
   "source": [
    "data_codebook[34]"
   ]
  },
  {
   "cell_type": "code",
   "execution_count": 83,
   "metadata": {
    "collapsed": false
   },
   "outputs": [
    {
     "name": "stdout",
     "output_type": "stream",
     "text": [
      "(6113L, 9L)\n",
      "[['SchoolGrade' '1 - 13 (13 being A+  1 being F)']\n",
      " ['PercentAmericanIndian' 'Percent']\n",
      " ['PercentAsian' 'Percent']\n",
      " ['PercentBlack' 'Percent']\n",
      " ['PercentHispanic' 'Percent']\n",
      " ['PercentWhite' 'Percent']\n",
      " ['PercentPacificIslander' 'Percent']\n",
      " ['PercentTwoOrMoreRace' 'Percent']\n",
      " ['PercentFreeOrReducedLunch' 'Percent']]\n",
      "(6113L,)\n"
     ]
    }
   ],
   "source": [
    "cols = [7,27,28,29,30,31,32,33, 34]\n",
    "\n",
    "data_interest = data_numeric[:,cols]\n",
    "\n",
    "#make goal into binary\n",
    "data_interest[:,0] = [0 if x <=  6 else 1 for x in data_interest[:,0]]\n",
    "code_interest = data_codebook[cols]\n",
    "print data_interest.shape\n",
    "print code_interest\n",
    "\n",
    "target = data_interest[:,0]\n",
    "features = data_interest[:,1:9]\n",
    "\n",
    "#print target.shape\n",
    "#print features.shape"
   ]
  },
  {
   "cell_type": "markdown",
   "metadata": {},
   "source": [
    "#### b. Divide into test/train sets"
   ]
  },
  {
   "cell_type": "code",
   "execution_count": 85,
   "metadata": {
    "collapsed": false
   },
   "outputs": [
    {
     "name": "stdout",
     "output_type": "stream",
     "text": [
      "(4095L, 8L)\n",
      "(2018L, 8L)\n",
      "4095\n",
      "2018\n"
     ]
    }
   ],
   "source": [
    "from sklearn.cross_validation import train_test_split\n",
    "\n",
    "features_train, features_test, target_train, target_test = train_test_split(features, target, test_size=0.33, random_state=42)\n",
    "print(features_train.shape)\n",
    "print(features_test.shape)\n",
    "print len(target_train)\n",
    "print len(target_test)"
   ]
  },
  {
   "cell_type": "markdown",
   "metadata": {},
   "source": [
    "### 3. Model Training"
   ]
  },
  {
   "cell_type": "markdown",
   "metadata": {},
   "source": [
    "#### Index\n",
    "    a. KNN \n",
    "    b. Naive Bayes\n",
    "    c. Gradient Boost\n",
    "    d. ada boost\n",
    "    e. bagging\n",
    "    f. regression"
   ]
  },
  {
   "cell_type": "markdown",
   "metadata": {},
   "source": [
    "#### a. K-NN"
   ]
  },
  {
   "cell_type": "code",
   "execution_count": 92,
   "metadata": {
    "collapsed": false,
    "scrolled": false
   },
   "outputs": [
    {
     "name": "stdout",
     "output_type": "stream",
     "text": [
      "[0.63520163669207697, 0.67787970109248574, 0.68879150416979851, 0.7017774857386071, 0.7083747028570615, 0.71072111478295985, 0.71832114116285195, 0.72323748756498862, 0.73275394399527138, 0.74048281313482855, 0.74713649658648351, 0.7539877020355672, 0.75589312833005873, 0.75662922471714267, 0.75878468367135032, 0.75823981610604863, 0.75823670058133408, 0.75793929152928774, 0.75878669301973189, 0.76016838825850042, 0.76084323305936474, 0.76234179927561285, 0.76170689977506778, 0.76263978637669916, 0.7637918664374872, 0.76563179778617241, 0.76842662718165422, 0.77018040468282478, 0.77068211269901754, 0.77224764109144572, 0.77354850323323554, 0.77380485866412674, 0.77430607960324283, 0.77536893134936258, 0.77586004236931194, 0.77730847251952406, 0.7784250200001851, 0.77951222680597887, 0.78000032745581538, 0.78031199581593047, 0.7808795069989849, 0.78172226254870048, 0.78197026744066722, 0.78261427573595932, 0.78242139151687051, 0.7823756484336174, 0.78290845122040453, 0.78318499221759041, 0.78354506988128858, 0.78322340574574234, 0.78287625885306766, 0.78283885030858924, 0.78199461471648357, 0.78229010844411395, 0.78258270283865572, 0.78205728247553208, 0.78114368501314024, 0.78120390203034717, 0.78110504831838301, 0.78048909945065548, 0.78043019129387559, 0.78023943441706889, 0.77960710148005496, 0.78039576487771645, 0.77947829982471106, 0.77902507003505639, 0.77888618752395788, 0.7780296327077515, 0.77774992073257487, 0.77707750431924061, 0.77688525490721705, 0.77650791323656543, 0.77624007448880339, 0.77651754962982, 0.7772498446358489, 0.7769425735829989, 0.77689297247526978, 0.77704522231940787, 0.77676066532321342, 0.7767465608473233, 0.77716097116317839, 0.77730757271915718, 0.77708809796103906, 0.77717215655464966, 0.7771962149992413, 0.77675729708045815, 0.77685238757257968, 0.77629573673104901, 0.7758851283984749, 0.7761172935964733, 0.77598218832218557, 0.7758742064608628, 0.77559956495502547, 0.77554337974208742, 0.77565473573217447, 0.77585644951441779, 0.77629429892599811, 0.7764009458077864, 0.77679040080266937, 0.77677788937941972]\n"
     ]
    },
    {
     "data": {
      "image/png": "[encoded data removed]",
      "text/plain": [
       "<matplotlib.figure.Figure at 0x181e2860>"
      ]
     },
     "metadata": {},
     "output_type": "display_data"
    }
   ],
   "source": [
    "from sklearn.neighbors import KNeighborsClassifier\n",
    "from sklearn.cross_validation import KFold\n",
    "from sklearn import metrics\n",
    "%matplotlib inline\n",
    "import matplotlib.pyplot as plt\n",
    "\n",
    "\n",
    "n=100\n",
    "X=range(1,n+1)\n",
    "knn_val = []\n",
    "\n",
    "knnset = [3,4,7]\n",
    "knn_features = features[:,knnset]\n",
    "\n",
    "\n",
    "#k-nn\n",
    "kf = KFold(len(knn_features_train), n_folds=10)\n",
    "\n",
    "for i in X :\n",
    "    auc=0\n",
    "    for train, test in kf :\n",
    "        knn_features_train, knn_features_test, knn_target_train, knn_target_test = knn_features[train,:], knn_features[test,:], target[train], target[test]\n",
    "        neigh = KNeighborsClassifier(n_neighbors=i)\n",
    "        neigh.fit(knn_features_train, knn_target_train)\n",
    "        prob = neigh.predict_proba(knn_features_test)\n",
    "        auc += metrics.roc_auc_score(knn_target_test, prob[:,1])\n",
    "    knn_val.append(auc/10)\n",
    "\n",
    "#Plot the results\n",
    "\n",
    "plt.figure(figsize=(15,10))\n",
    "plt.axis([0,n+2,0,1])\n",
    "\n",
    "line_knn_val = plt.plot(X, knn_val, color='red', label = 'K-nn ')\n",
    "\n",
    "import matplotlib.patches as mpatches\n",
    "\n",
    "red_patch = mpatches.Patch(color='red', label='K-nn')\n",
    "plt.legend(handles=[red_patch])\n",
    "\n",
    "print knn_val\n",
    "print max(knn_val)"
   ]
  },
  {
   "cell_type": "code",
   "execution_count": null,
   "metadata": {
    "collapsed": false
   },
   "outputs": [],
   "source": [
    "knn_max = max(knn_val)\n",
    "knn_maxIndex = knn_val.index(knn_max)\n",
    "print 'Max AUC score of %1.5f with %d neighbors' %(float(knn_max), knn_maxIndex)"
   ]
  },
  {
   "cell_type": "markdown",
   "metadata": {},
   "source": [
    "#### b. Naive-Bayes"
   ]
  },
  {
   "cell_type": "code",
   "execution_count": 117,
   "metadata": {
    "collapsed": false
   },
   "outputs": [
    {
     "name": "stdout",
     "output_type": "stream",
     "text": [
      "AUC Score : 0.77023\n"
     ]
    }
   ],
   "source": [
    "from sklearn import naive_bayes\n",
    "from sklearn import metrics\n",
    "from sklearn.cross_validation import train_test_split\n",
    "\n",
    "#cnbset = [3,4,7]\n",
    "#cnb_features = features[:,cnbset]\n",
    "cnb_features = features\n",
    "\n",
    "\n",
    "cnb_features_train, cnb_features_test, cnb_target_train, cnb_target_test = train_test_split(cnb_features, target, test_size=0.33, random_state=42)\n",
    "\n",
    "cnb = naive_bayes.GaussianNB()\n",
    "cnb.fit(cnb_features_train, cnb_target_train)\n",
    "cprobabilities= cnb.predict_proba(cnb_features_test)\n",
    "print 'AUC Score : %1.5f' %metrics.roc_auc_score(cnb_target_test, cprobabilities[:,1])\n"
   ]
  },
  {
   "cell_type": "markdown",
   "metadata": {},
   "source": [
    "#### c. Gradient-Boosted Decision Trees"
   ]
  },
  {
   "cell_type": "code",
   "execution_count": 135,
   "metadata": {
    "collapsed": false
   },
   "outputs": [
    {
     "name": "stdout",
     "output_type": "stream",
     "text": [
      "1\n",
      "2\n",
      "3\n",
      "4\n",
      "5\n",
      "6\n",
      "7\n",
      "8\n",
      "9\n",
      "10\n",
      "11\n",
      "12\n",
      "13\n",
      "14\n",
      "15\n",
      "[0.80126930873290581, 0.8189834306795738, 0.82663582382047507, 0.83605819045000618, 0.84025972020315598, 0.83905471918508323, 0.8418533603206495, 0.84293904414888721, 0.83818019416470757, 0.84190541912465167, 0.84080849886622477, 0.843391345494093, 0.84190727080145833, 0.84297432046351106, 0.84635073314856601]\n"
     ]
    },
    {
     "data": {
      "text/plain": [
       "[<matplotlib.lines.Line2D at 0x187f2cf8>]"
      ]
     },
     "execution_count": 135,
     "metadata": {},
     "output_type": "execute_result"
    },
    {
     "data": {
      "image/png": "[encoded data removed]",
      "text/plain": [
       "<matplotlib.figure.Figure at 0x19b00e80>"
      ]
     },
     "metadata": {},
     "output_type": "display_data"
    }
   ],
   "source": [
    "from sklearn import cross_validation\n",
    "from sklearn.ensemble import GradientBoostingClassifier\n",
    "\n",
    "#gbset = [3,4,7]\n",
    "#gb_features = features[:,gbset]\n",
    "gb_features = features\n",
    "\n",
    "\n",
    "n = 15\n",
    "gbt_X = range(1,n+1)\n",
    "\n",
    "GBT_values = []\n",
    "\n",
    "for k in gbt_X : \n",
    "    print k\n",
    "    GBT = GradientBoostingClassifier(n_estimators=100, learning_rate=0.5, max_depth=k, random_state=0,loss='deviance')\n",
    "    cv_auc=cross_validation.cross_val_score(GBT, gb_features, target, scoring='roc_auc', cv=10)\n",
    "    \n",
    "    auc=0\n",
    "    for i in range(len(cv_auc)):\n",
    "        auc = auc + cv_auc[i]\n",
    "    auc = auc/10\n",
    "    GBT_values.append(auc)\n",
    "\n",
    "print GBT_values\n",
    "\n",
    "plt.plot(gbt_X,GBT_values)"
   ]
  },
  {
   "cell_type": "code",
   "execution_count": 138,
   "metadata": {
    "collapsed": false
   },
   "outputs": [
    {
     "name": "stdout",
     "output_type": "stream",
     "text": [
      "Max AUC score of 0.84635 with max depth of 14\n"
     ]
    }
   ],
   "source": [
    "gbt_max = max(GBT_values)\n",
    "gbt_maxIndex = GBT_values.index(gbt_max)\n",
    "print 'Max AUC score of %1.5f with max depth of %d' %(float(gbt_max), gbt_X[gbt_maxIndex])"
   ]
  },
  {
   "cell_type": "markdown",
   "metadata": {},
   "source": [
    "#### d. ADA Boost"
   ]
  },
  {
   "cell_type": "code",
   "execution_count": 120,
   "metadata": {
    "collapsed": false
   },
   "outputs": [
    {
     "name": "stdout",
     "output_type": "stream",
     "text": [
      "1\n",
      "2\n",
      "3\n",
      "4\n",
      "5\n",
      "6\n",
      "7\n",
      "8\n",
      "9\n",
      "10\n",
      "[0.78022295741436598, 0.78841022528081994, 0.80153201371612393, 0.80496649850373403, 0.82305858244280183, 0.83683732473773509, 0.84628038792388638, 0.84734184648675837, 0.84261873682104083, 0.84307585656299788]\n"
     ]
    },
    {
     "data": {
      "text/plain": [
       "[<matplotlib.lines.Line2D at 0x1a592a90>]"
      ]
     },
     "execution_count": 120,
     "metadata": {},
     "output_type": "execute_result"
    },
    {
     "data": {
      "image/png": "[encoded data removed]",
      "text/plain": [
       "<matplotlib.figure.Figure at 0x18236550>"
      ]
     },
     "metadata": {},
     "output_type": "display_data"
    }
   ],
   "source": [
    "from sklearn.ensemble import AdaBoostClassifier\n",
    "from sklearn.tree import DecisionTreeClassifier\n",
    "\n",
    "#adaset = [3,4,7]\n",
    "#ada_features = features[:,adaset]\n",
    "ada_features = features\n",
    "\n",
    "ada_values = []\n",
    "n = 10\n",
    "ada_X = range(1,n+1)\n",
    "\n",
    "for k in ada_X:\n",
    "    print k\n",
    "    ada = AdaBoostClassifier(DecisionTreeClassifier(max_depth=k),\n",
    "                         algorithm=\"SAMME\",\n",
    "                         n_estimators=100)\n",
    "    cv_auc=cross_validation.cross_val_score(ada, ada_features, target, scoring='roc_auc', cv=10)\n",
    "    auc=0\n",
    "    for i in range(len(cv_auc)):\n",
    "        auc = auc + cv_auc[i]\n",
    "    auc = auc / 10\n",
    "    ada_values.append(auc)\n",
    "\n",
    "print ada_values\n",
    "plt.plot(ada_X,ada_values)\n"
   ]
  },
  {
   "cell_type": "code",
   "execution_count": 139,
   "metadata": {
    "collapsed": false
   },
   "outputs": [
    {
     "name": "stdout",
     "output_type": "stream",
     "text": [
      "Max AUC score of 0.84734 with max depth of 7\n"
     ]
    }
   ],
   "source": [
    "ada_max = max(ada_values)\n",
    "ada_maxIndex = ada_values.index(ada_max)\n",
    "print 'Max AUC score of %1.5f with max depth of %d' %(float(ada_max), ada_X[ada_maxIndex])"
   ]
  },
  {
   "cell_type": "markdown",
   "metadata": {},
   "source": [
    "#### e. Bagging"
   ]
  },
  {
   "cell_type": "code",
   "execution_count": 133,
   "metadata": {
    "collapsed": false
   },
   "outputs": [
    {
     "name": "stdout",
     "output_type": "stream",
     "text": [
      "1\n",
      "2\n",
      "3\n",
      "4\n",
      "5\n",
      "6\n",
      "7\n",
      "8\n",
      "9\n",
      "10\n",
      "11\n",
      "12\n",
      "13\n",
      "14\n",
      "15\n",
      "16\n",
      "17\n",
      "18\n",
      "19\n",
      "20\n",
      "[0.74467683399051432, 0.78475356978350996, 0.79846528414008844, 0.80880588780174212, 0.81890251618487453, 0.82734092255050351, 0.83428004515061172, 0.84039663698806955, 0.84344784648792026, 0.84335572304250328, 0.84614878442607599, 0.84559908079023693, 0.84750482129570104, 0.84730893243099603, 0.84662863621868678, 0.84537332773168794, 0.84787382125014554, 0.84924757416696617, 0.84896917913960745, 0.84770880892483835]\n"
     ]
    },
    {
     "data": {
      "text/plain": [
       "[<matplotlib.lines.Line2D at 0x1afab2b0>]"
      ]
     },
     "execution_count": 133,
     "metadata": {},
     "output_type": "execute_result"
    },
    {
     "data": {
      "image/png": "[encoded data removed]",
      "text/plain": [
       "<matplotlib.figure.Figure at 0x1822e588>"
      ]
     },
     "metadata": {},
     "output_type": "display_data"
    }
   ],
   "source": [
    "from sklearn import cross_validation\n",
    "from sklearn import tree\n",
    "from sklearn import ensemble\n",
    "\n",
    "#bagset = [3,4,7]\n",
    "#bag_features = features[:,bagset]\n",
    "bag_features = features\n",
    "\n",
    "bag_features_train, bag_features_test, bag_target_train, bag_target_test = train_test_split(bag_features, target, test_size=0.33, random_state=42)\n",
    "\n",
    "bagging_tree=[]\n",
    "index = []\n",
    "\n",
    "n=20\n",
    "bag_X = range(1,n+1)\n",
    "for i in bag_X:\n",
    "    print i\n",
    "    bagging_dt=ensemble.BaggingClassifier (\n",
    "    base_estimator=tree.DecisionTreeClassifier(random_state=0,max_depth=i ,min_samples_leaf=5), \n",
    "    n_estimators=60)\n",
    "    bagging_dt.fit(bag_features_train,bag_target_train)\n",
    "    probabilities_bg_dt = bagging_dt.predict_proba(bag_features_test)\n",
    "    bagging_tree.append(metrics.roc_auc_score(bag_target_test,probabilities_bg_dt[:,1],sample_weight=None))\n",
    "    \n",
    "    \n",
    "print bagging_tree\n",
    "\n",
    "plt.plot(bag_X,bagging_tree, linewidth=4.0)"
   ]
  },
  {
   "cell_type": "code",
   "execution_count": null,
   "metadata": {
    "collapsed": false
   },
   "outputs": [],
   "source": [
    "bt_max = max(bagging_tree)\n",
    "bt_maxIndex = bagging_tree.index(bt_max)\n",
    "print 'Max AUC score of %1.5f with max_depth of %d' %(float(bt_max), bag_x[bt_maxIndex])"
   ]
  },
  {
   "cell_type": "markdown",
   "metadata": {},
   "source": [
    "#### f. regression"
   ]
  },
  {
   "cell_type": "code",
   "execution_count": 132,
   "metadata": {
    "collapsed": false
   },
   "outputs": [
    {
     "name": "stdout",
     "output_type": "stream",
     "text": [
      "AUC score of 0.78304\n"
     ]
    }
   ],
   "source": [
    "from sklearn import datasets, linear_model\n",
    "from sklearn.metrics import roc_auc_score\n",
    "\n",
    "#regset = [3,4,7]\n",
    "#reg_features = features[:,regset]\n",
    "reg_features = features\n",
    "\n",
    "reg_features_train, reg_features_test, reg_target_train, reg_target_test = train_test_split(reg_features, target, test_size=0.33, random_state=42)\n",
    "\n",
    "regr = linear_model.LinearRegression()\n",
    "regr.fit(reg_features_train, reg_target_train)\n",
    "reg_scores = regr.predict(reg_features_test)\n",
    "\n",
    "reg_auc_score = roc_auc_score(reg_target_test, reg_scores)\n",
    "\n",
    "print \"AUC score of %1.5f\" %reg_auc_score\n"
   ]
  },
  {
   "cell_type": "markdown",
   "metadata": {},
   "source": [
    "#### g. random forest"
   ]
  },
  {
   "cell_type": "code",
   "execution_count": 144,
   "metadata": {
    "collapsed": false
   },
   "outputs": [
    {
     "name": "stdout",
     "output_type": "stream",
     "text": [
      "1\n",
      "2\n",
      "3\n",
      "4\n",
      "5\n",
      "6\n",
      "7\n",
      "8\n",
      "9\n",
      "10\n",
      "11\n",
      "12\n",
      "13\n",
      "14\n",
      "15\n",
      "[0.74843855544327875, 0.7797110872600882, 0.7929905928795733, 0.80174478611387912, 0.81023828393911723, 0.8200955440855473, 0.82974016454593813, 0.83724174739465751, 0.84419997693231763, 0.85034354794544742, 0.8542212461108537, 0.85505675201163522, 0.85684327459056497, 0.85586046556068518, 0.85622479994051692]\n"
     ]
    },
    {
     "data": {
      "text/plain": [
       "[<matplotlib.lines.Line2D at 0x1b16d470>]"
      ]
     },
     "execution_count": 144,
     "metadata": {},
     "output_type": "execute_result"
    },
    {
     "data": {
      "image/png": "[encoded data removed]",
      "text/plain": [
       "<matplotlib.figure.Figure at 0x1a0c5550>"
      ]
     },
     "metadata": {},
     "output_type": "display_data"
    }
   ],
   "source": [
    "from sklearn.ensemble import RandomForestClassifier\n",
    "from sklearn.tree import DecisionTreeClassifier\n",
    "\n",
    "n=15\n",
    "rf_X=range(1,n+1)\n",
    "\n",
    "#rfset = [3,4,7]\n",
    "#rf_features = features[:,rfset]\n",
    "rf_features = features\n",
    "\n",
    "rf_values=[]\n",
    "\n",
    "for k in rf_X:\n",
    "    print k\n",
    "    rf = RandomForestClassifier(n_estimators=100,max_features=5,max_depth=k)\n",
    "    cv_auc=cross_validation.cross_val_score(rf, rf_features, target, scoring='roc_auc', cv=10)\n",
    "    auc=0\n",
    "    for i in range(len(cv_auc)):\n",
    "        auc = auc + cv_auc[i]\n",
    "    auc = auc / 10\n",
    "    rf_values.append(auc)\n",
    "    \n",
    "print rf_values\n",
    "plt.plot(rf_X,rf_values)"
   ]
  },
  {
   "cell_type": "code",
   "execution_count": 147,
   "metadata": {
    "collapsed": false
   },
   "outputs": [
    {
     "name": "stdout",
     "output_type": "stream",
     "text": [
      "Max AUC score of 0.85684 with max depth of  13\n"
     ]
    }
   ],
   "source": [
    "rf_max = max(rf_values)\n",
    "rf_maxIndex = rf_values.index(rf_max)\n",
    "print 'Max AUC score of %1.5f with max depth of  %d' %(float(rf_max), rf_X[rf_maxIndex])"
   ]
  },
  {
   "cell_type": "markdown",
   "metadata": {},
   "source": [
    "### 4. Add results"
   ]
  },
  {
   "cell_type": "markdown",
   "metadata": {},
   "source": [
    "#### Summary of simple models : \n",
    "    a. K-NN : Max AUC score of 0.78355 with 48 neighbors\n",
    "    b. Naive-Bayes : AUC score of 0.77023\n",
    "    c. Gradient-Boost Tree : Max AUC score of 0.84635 with max depth of 15\n",
    "    d. ADA - Boost : Max AUC score of 0.84734 with max depth of 8\n",
    "    e. Bagging : Max AUC score of 0.84925 with max_depth of 18\n",
    "    f. Linear Regression : AUC score of 0.78304\n",
    "    g. Random Forest : Max AUC score of 0.85684 with max depth of  13"
   ]
  },
  {
   "cell_type": "markdown",
   "metadata": {},
   "source": [
    "#### a. Try with Bagging and Random Forest"
   ]
  },
  {
   "cell_type": "code",
   "execution_count": 196,
   "metadata": {
    "collapsed": false
   },
   "outputs": [
    {
     "name": "stdout",
     "output_type": "stream",
     "text": [
      "At iteration 0\n",
      "At iteration 1\n",
      "At iteration 2\n",
      "At iteration 3\n",
      "At iteration 4\n",
      "At iteration 5\n",
      "At iteration 6\n",
      "At iteration 7\n",
      "At iteration 8\n",
      "At iteration 9\n",
      "[0.86068900889155986, 0.86118908436739794, 0.86136835920439336, 0.86120998632098866, 0.86090585073087966, 0.86056273940597827, 0.86006929285122879, 0.85937108121604489, 0.85818874780695042, 0.85687793667084089, 0.8553962752988179]\n"
     ]
    },
    {
     "data": {
      "text/plain": [
       "[<matplotlib.lines.Line2D at 0x20f6bba8>]"
      ]
     },
     "execution_count": 196,
     "metadata": {},
     "output_type": "execute_result"
    },
    {
     "data": {
      "image/png": "[encoded data removed]",
      "text/plain": [
       "<matplotlib.figure.Figure at 0x207cbdd8>"
      ]
     },
     "metadata": {},
     "output_type": "display_data"
    }
   ],
   "source": [
    "import numpy as np\n",
    "import sys\n",
    "from sklearn.cross_validation import KFold\n",
    "from sklearn import tree\n",
    "from sklearn import metrics\n",
    "\n",
    "\n",
    "#combset = [3,4,7]\n",
    "#comb_features = features[:,combset]\n",
    "comb_features = features\n",
    "\n",
    "kf = KFold(len(comb_features), n_folds=10)\n",
    "auc=0\n",
    "n = 0\n",
    "\n",
    "weights = [0,0.1,0.2,0.3,0.4,0.5,0.6,0.7,0.8,0.9,1]\n",
    "auc_scores = {}\n",
    "auc_scores_list = []\n",
    "for weight in weights:\n",
    "    auc_scores[weight]=0\n",
    "    \n",
    "    \n",
    "for train, test in kf:\n",
    "    print 'At iteration %d' %n\n",
    "    n += 1\n",
    "    comb_features_train, comb_features_test, comb_target_train, comb_target_test = comb_features[train], comb_features[test], target[train], target[test]\n",
    "\n",
    "    #Bagging classifier\n",
    "    comb_bag_dt=ensemble.BaggingClassifier (\n",
    "        base_estimator=tree.DecisionTreeClassifier(random_state=0,max_depth=18 ,min_samples_leaf=5), n_estimators=45)\n",
    "    comb_bag_dt.fit(comb_features_train, comb_target_train)\n",
    "    comb_bag_prob = comb_bag_dt.predict_proba(comb_features_test)    \n",
    "\n",
    "\n",
    "    #Random Forest\n",
    "    comb_rf = RandomForestClassifier(n_estimators=100,max_features=5,max_depth=13)\n",
    "    comb_rf.fit(comb_features_train, comb_target_train)\n",
    "    comb_rf_prob = comb_rf.predict_proba(comb_features_test)\n",
    "\n",
    "    for weight in weights:\n",
    "        prob = weight * comb_bag_prob + (1-weight) * comb_rf_prob\n",
    "        auc_scores[weight] += metrics.roc_auc_score(comb_target_test, prob[:,1])\n",
    "\n",
    "for weight in weights:\n",
    "    auc_scores_list.append(auc_scores[weight] / 10.0)\n",
    "        \n",
    "print auc_scores_list\n",
    "plt.plot(weights, auc_scores_list)"
   ]
  },
  {
   "cell_type": "code",
   "execution_count": 197,
   "metadata": {
    "collapsed": false
   },
   "outputs": [
    {
     "name": "stdout",
     "output_type": "stream",
     "text": [
      "Max AUC score of 0.86137 with 0.2 weight for bagging and 0.8 weight for Random Forest\n"
     ]
    }
   ],
   "source": [
    "comb_max = max(auc_scores_list)\n",
    "comb_max_index = auc_scores_list.index(comb_max)\n",
    "comb_weight = weights[comb_max_index]\n",
    "        \n",
    "print 'Max AUC score of %1.5f with %1.1f weight for bagging and %1.1f weight for Random Forest' %(float(comb_max), comb_weight, 1-comb_weight)"
   ]
  },
  {
   "cell_type": "markdown",
   "metadata": {},
   "source": [
    "#### b.Try with Bagging and K-nn"
   ]
  },
  {
   "cell_type": "code",
   "execution_count": 179,
   "metadata": {
    "collapsed": false
   },
   "outputs": [
    {
     "name": "stdout",
     "output_type": "stream",
     "text": [
      "At iteration 0\n",
      "At iteration 1\n",
      "At iteration 2\n",
      "At iteration 3\n",
      "At iteration 4\n",
      "At iteration 5\n",
      "At iteration 6\n",
      "At iteration 7\n",
      "At iteration 8\n",
      "At iteration 9\n",
      "[0.78710339729967416, 0.80144041529574805, 0.81392782686674392, 0.82481948261587346, 0.83398117634259505, 0.84108662059222783, 0.84668859153915754, 0.85019001052397558, 0.85269439536176517, 0.85385145331270618, 0.85431547895937798]\n"
     ]
    },
    {
     "data": {
      "text/plain": [
       "[<matplotlib.lines.Line2D at 0x1b7c1ba8>]"
      ]
     },
     "execution_count": 179,
     "metadata": {},
     "output_type": "execute_result"
    },
    {
     "data": {
      "image/png": "[encoded data removed]",
      "text/plain": [
       "<matplotlib.figure.Figure at 0x1ed75da0>"
      ]
     },
     "metadata": {},
     "output_type": "display_data"
    }
   ],
   "source": [
    "import numpy as np\n",
    "import sys\n",
    "from sklearn.cross_validation import KFold\n",
    "from sklearn import tree\n",
    "from sklearn import metrics\n",
    "\n",
    "\n",
    "#comb2set = [3,4,7]\n",
    "#comb2_features = features[:,comb2set]\n",
    "comb2_features = features\n",
    "\n",
    "kf2 = KFold(len(comb2_features), n_folds=10)\n",
    "n = 0\n",
    "\n",
    "weights = [0,0.1,0.2,0.3,0.4,0.5,0.6,0.7,0.8,0.9,1]\n",
    "auc_scores2 = {}\n",
    "auc_scores_list2 = []\n",
    "for weight in weights:\n",
    "    auc_scores2[weight]=0\n",
    "    \n",
    "    \n",
    "for train, test in kf2:\n",
    "    print 'At iteration %d' %n\n",
    "    n += 1\n",
    "    comb2_features_train, comb2_features_test, comb2_target_train, comb2_target_test = comb2_features[train], comb2_features[test], target[train], target[test]\n",
    "\n",
    "    #Bagging classifier\n",
    "    comb2_bag_dt=ensemble.BaggingClassifier (\n",
    "        base_estimator=tree.DecisionTreeClassifier(random_state=0,max_depth=18 ,min_samples_leaf=5), n_estimators=45)\n",
    "    comb2_bag_dt.fit(comb2_features_train, comb2_target_train)\n",
    "    comb2_bag_prob = comb2_bag_dt.predict_proba(comb2_features_test)    \n",
    "\n",
    "\n",
    "    #Knn\n",
    "    comb2_knn = KNeighborsClassifier(n_neighbors=48)\n",
    "    comb2_knn.fit(comb2_features_train, comb2_target_train)\n",
    "    comb2_knn_prob = comb2_knn.predict_proba(comb2_features_test)\n",
    "\n",
    "    for weight in weights:\n",
    "        prob = weight * comb2_bag_prob + (1-weight) * comb2_knn_prob\n",
    "        auc_scores2[weight] += metrics.roc_auc_score(comb2_target_test, prob[:,1])\n",
    "\n",
    "for weight in weights:\n",
    "    auc_scores_list2.append(auc_scores2[weight] / 10.0)\n",
    "        \n",
    "print auc_scores_list2\n",
    "plt.plot(weights, auc_scores_list2)"
   ]
  },
  {
   "cell_type": "code",
   "execution_count": 180,
   "metadata": {
    "collapsed": false
   },
   "outputs": [
    {
     "name": "stdout",
     "output_type": "stream",
     "text": [
      "Max AUC score of 0.85327 with 1.0 weight for bagging and 0.0 weight for knn\n"
     ]
    }
   ],
   "source": [
    "\n",
    "comb_max2 = max(auc_scores_list2)\n",
    "comb_max_index2 = auc_scores_list2.index(comb_max2)\n",
    "comb_weight2 = weights[comb_max_index2]\n",
    "        \n",
    "print 'Max AUC score of %1.5f with %1.1f weight for bagging and %1.1f weight for knn' %(float(comb2_max), comb_weight2, 1-comb_weight2)"
   ]
  },
  {
   "cell_type": "markdown",
   "metadata": {},
   "source": [
    "#### c. Try with K-nn and Linear Regression"
   ]
  },
  {
   "cell_type": "code",
   "execution_count": 186,
   "metadata": {
    "collapsed": false
   },
   "outputs": [
    {
     "name": "stdout",
     "output_type": "stream",
     "text": [
      "At iteration 0\n",
      "At iteration 1\n",
      "At iteration 2\n",
      "At iteration 3\n",
      "At iteration 4\n",
      "At iteration 5\n",
      "At iteration 6\n",
      "At iteration 7\n",
      "At iteration 8\n",
      "At iteration 9\n",
      "[0.77424944360247838, 0.77859682772913197, 0.78187173700270896, 0.78439739018558952, 0.78599341488390584, 0.78740125196608457, 0.78840294175982573, 0.78900832857911796, 0.78918604259495662, 0.78857492774634508, 0.78710339729967416]\n"
     ]
    },
    {
     "data": {
      "text/plain": [
       "[<matplotlib.lines.Line2D at 0x1ffa0b70>]"
      ]
     },
     "execution_count": 186,
     "metadata": {},
     "output_type": "execute_result"
    },
    {
     "data": {
      "image/png": "[encoded data removed]",
      "text/plain": [
       "<matplotlib.figure.Figure at 0x1a705e80>"
      ]
     },
     "metadata": {},
     "output_type": "display_data"
    }
   ],
   "source": [
    "import numpy as np\n",
    "import sys\n",
    "from sklearn.cross_validation import KFold\n",
    "from sklearn import tree\n",
    "from sklearn import metrics\n",
    "\n",
    "\n",
    "#comb3set = [3,4,7]\n",
    "#comb3_features = features[:,comb3set]\n",
    "comb3_features = features\n",
    "\n",
    "kf3 = KFold(len(comb3_features), n_folds=10)\n",
    "n = 0\n",
    "\n",
    "weights = [0,0.1,0.2,0.3,0.4,0.5,0.6,0.7,0.8,0.9,1]\n",
    "auc_scores3 = {}\n",
    "auc_scores_list3 = []\n",
    "for weight in weights:\n",
    "    auc_scores3[weight]=0\n",
    "    \n",
    "    \n",
    "for train, test in kf3:\n",
    "    print 'At iteration %d' %n\n",
    "    n += 1\n",
    "    comb3_features_train, comb3_features_test, comb3_target_train, comb3_target_test = comb3_features[train], comb3_features[test], target[train], target[test]\n",
    "\n",
    "    #Knn\n",
    "    comb3_knn = KNeighborsClassifier(n_neighbors=48)\n",
    "    comb3_knn.fit(comb3_features_train, comb3_target_train)\n",
    "    comb3_knn_prob = comb3_knn.predict_proba(comb3_features_test)\n",
    "    \n",
    "    #Linear Regression\n",
    "    comb3_regr = linear_model.LinearRegression()\n",
    "    comb3_regr.fit(comb3_features_train, comb3_target_train)\n",
    "    comb3_reg_scores = comb3_regr.predict(comb3_features_test)    \n",
    "\n",
    "    for weight in weights:\n",
    "        prob = weight * comb3_knn_prob[:,1] + (1-weight) * comb3_reg_scores\n",
    "        auc_scores3[weight] += metrics.roc_auc_score(comb3_target_test, prob)\n",
    "\n",
    "for weight in weights:\n",
    "    auc_scores_list3.append(auc_scores3[weight] / 10.0)\n",
    "        \n",
    "print auc_scores_list3\n",
    "plt.plot(weights, auc_scores_list3)"
   ]
  },
  {
   "cell_type": "code",
   "execution_count": 188,
   "metadata": {
    "collapsed": false
   },
   "outputs": [
    {
     "name": "stdout",
     "output_type": "stream",
     "text": [
      "Max AUC score of 0.78919 with 0.8 weight for k-nn and 0.2 weight for regression\n"
     ]
    }
   ],
   "source": [
    "comb_max3 = max(auc_scores_list3)\n",
    "comb_max_index3 = auc_scores_list3.index(comb_max3)\n",
    "comb_weight3 = weights[comb_max_index3]\n",
    "        \n",
    "print 'Max AUC score of %1.5f with %1.1f weight for k-nn and %1.1f weight for regression' %(float(comb_max3), comb_weight3, 1-comb_weight3)"
   ]
  },
  {
   "cell_type": "markdown",
   "metadata": {},
   "source": [
    "#### d. Try with random forest and regression"
   ]
  },
  {
   "cell_type": "code",
   "execution_count": 189,
   "metadata": {
    "collapsed": false
   },
   "outputs": [
    {
     "name": "stdout",
     "output_type": "stream",
     "text": [
      "At iteration 0\n",
      "At iteration 1\n",
      "At iteration 2\n",
      "At iteration 3\n",
      "At iteration 4\n",
      "At iteration 5\n",
      "At iteration 6\n",
      "At iteration 7\n",
      "At iteration 8\n",
      "At iteration 9\n",
      "[0.77424944360247838, 0.79678582180897262, 0.81531367632964802, 0.82983986160496226, 0.84096465649521102, 0.84883533303300995, 0.85363051006446322, 0.85644015995888534, 0.85796151040362489, 0.85814084490162812, 0.85726425623218439]\n"
     ]
    },
    {
     "data": {
      "text/plain": [
       "[<matplotlib.lines.Line2D at 0x207651d0>]"
      ]
     },
     "execution_count": 189,
     "metadata": {},
     "output_type": "execute_result"
    },
    {
     "data": {
      "image/png": "[encoded data removed]",
      "text/plain": [
       "<matplotlib.figure.Figure at 0x1b770160>"
      ]
     },
     "metadata": {},
     "output_type": "display_data"
    }
   ],
   "source": [
    "import numpy as np\n",
    "import sys\n",
    "from sklearn.cross_validation import KFold\n",
    "from sklearn import tree\n",
    "from sklearn import metrics\n",
    "\n",
    "\n",
    "#comb4set = [3,4,7]\n",
    "#comb4_features = features[:,comb4set]\n",
    "comb4_features = features\n",
    "\n",
    "kf4 = KFold(len(comb4_features), n_folds=10)\n",
    "n = 0\n",
    "\n",
    "weights = [0,0.1,0.2,0.3,0.4,0.5,0.6,0.7,0.8,0.9,1]\n",
    "auc_scores4 = {}\n",
    "auc_scores_list4 = []\n",
    "for weight in weights:\n",
    "    auc_scores4[weight]=0\n",
    "    \n",
    "    \n",
    "for train, test in kf4:\n",
    "    print 'At iteration %d' %n\n",
    "    n += 1\n",
    "    comb4_features_train, comb4_features_test, comb4_target_train, comb4_target_test = comb4_features[train], comb4_features[test], target[train], target[test]\n",
    "\n",
    "    #Random Forest\n",
    "    comb4_rf = RandomForestClassifier(n_estimators=100,max_features=5,max_depth=13)\n",
    "    comb4_rf.fit(comb4_features_train, comb4_target_train)\n",
    "    comb4_rf_prob = comb4_rf.predict_proba(comb4_features_test)\n",
    "    \n",
    "    #Linear Regression\n",
    "    comb4_regr = linear_model.LinearRegression()\n",
    "    comb4_regr.fit(comb4_features_train, comb4_target_train)\n",
    "    comb4_reg_scores = comb4_regr.predict(comb4_features_test)    \n",
    "\n",
    "    for weight in weights:\n",
    "        prob = weight * comb4_rf_prob[:,1] + (1-weight) * comb4_reg_scores\n",
    "        auc_scores4[weight] += metrics.roc_auc_score(comb4_target_test, prob)\n",
    "\n",
    "for weight in weights:\n",
    "    auc_scores_list4.append(auc_scores4[weight] / 10.0)\n",
    "        \n",
    "print auc_scores_list4\n",
    "plt.plot(weights, auc_scores_list4)"
   ]
  },
  {
   "cell_type": "code",
   "execution_count": 190,
   "metadata": {
    "collapsed": false
   },
   "outputs": [
    {
     "name": "stdout",
     "output_type": "stream",
     "text": [
      "Max AUC score of 0.85814 with 0.9 weight for Random forest and 0.1 weight for regression\n"
     ]
    }
   ],
   "source": [
    "comb_max4 = max(auc_scores_list4)\n",
    "comb_max_index4 = auc_scores_list4.index(comb_max4)\n",
    "comb_weight4 = weights[comb_max_index4]\n",
    "        \n",
    "print 'Max AUC score of %1.5f with %1.1f weight for Random forest and %1.1f weight for regression' %(float(comb_max4), comb_weight4, 1-comb_weight4)"
   ]
  },
  {
   "cell_type": "markdown",
   "metadata": {},
   "source": [
    "### Best result yet : Max AUC score of 0.86137 with 0.2 weight for bagging and 0.8 weight for Random Forest"
   ]
  }
 ],
 "metadata": {
  "kernelspec": {
   "display_name": "Python 2",
   "language": "python",
   "name": "python2"
  },
  "language_info": {
   "codemirror_mode": {
    "name": "ipython",
    "version": 2
   },
   "file_extension": ".py",
   "mimetype": "text/x-python",
   "name": "python",
   "nbconvert_exporter": "python",
   "pygments_lexer": "ipython2",
   "version": "2.7.10"
  }
 },
 "nbformat": 4,
 "nbformat_minor": 0
}
