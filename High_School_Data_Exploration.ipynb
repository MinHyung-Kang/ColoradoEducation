{
 "cells": [
  {
   "cell_type": "markdown",
   "metadata": {},
   "source": [
    "# High School Data"
   ]
  },
  {
   "cell_type": "code",
   "execution_count": 16,
   "metadata": {
    "collapsed": false
   },
   "outputs": [
    {
     "name": "stdout",
     "output_type": "stream",
     "text": [
      "2082\n",
      "(357, 36)\n"
     ]
    }
   ],
   "source": [
    "import numpy as np\n",
    "import sys\n",
    "\n",
    "data_2010_raw = np.loadtxt(\"./CleanedData/Data_2010.csv\", dtype=str, delimiter=\",\")\n",
    "data_2011_raw = np.loadtxt(\"./CleanedData/Data_2011.csv\",  delimiter=',', dtype=str)\n",
    "data_2012_raw = np.loadtxt(\"./CleanedData/Data_2012.csv\",  delimiter=',', dtype=str)\n",
    "\n",
    "#Using all the proportions\n",
    "ethnic_sample = [7,27,28,29,30,31,32,33]\n",
    "\n",
    "\n",
    "high_data_raw =[]\n",
    "print len(data_2010_raw)\n",
    "for i in range(len(data_2010_raw)):\n",
    "     if data_2010_raw[i,1] == '\"H\"' and \"NA\" not in data_2010_raw[i, ethnic_sample] :\n",
    "        high_data_raw.append(data_2010_raw[i])\n",
    "\n",
    "high_data_raw = np.asarray(high_data_raw)\n",
    "print high_data_raw.shape"
   ]
  },
  {
   "cell_type": "code",
   "execution_count": 17,
   "metadata": {
    "collapsed": false
   },
   "outputs": [
    {
     "name": "stdout",
     "output_type": "stream",
     "text": [
      "total number of students 1930\n"
     ]
    }
   ],
   "source": [
    "print \"total number of students\", high_data_raw[0][26] # total number of students\n",
    "reduced_lunches = high_data_raw[0][34] # free and reduced lunches\n",
    "remediation = high_data_raw[0][35] # remediation\n"
   ]
  },
  {
   "cell_type": "code",
   "execution_count": 18,
   "metadata": {
    "collapsed": false
   },
   "outputs": [],
   "source": [
    "ethnic_hs_data = high_data_raw[:,ethnic_sample]\n",
    "\n",
    "\n",
    "hs_targets = ethnic_hs_data[:,0].astype(float)\n",
    "hs_features = ethnic_hs_data[:,1:].astype(float)\n"
   ]
  },
  {
   "cell_type": "markdown",
   "metadata": {},
   "source": [
    "## Cross Validation"
   ]
  },
  {
   "cell_type": "code",
   "execution_count": 19,
   "metadata": {
    "collapsed": false
   },
   "outputs": [
    {
     "name": "stdout",
     "output_type": "stream",
     "text": [
      "(239, 7)\n",
      "(118, 7)\n",
      "(239,)\n",
      "(118,)\n"
     ]
    }
   ],
   "source": [
    "from sklearn.cross_validation import train_test_split\n",
    "hs_features_train, hs_features_test, hs_target_train, hs_target_test = train_test_split(hs_features, hs_targets, test_size=0.33, random_state=42)\n",
    "print(hs_features_train.shape)\n",
    "print(hs_features_test.shape)\n",
    "print(hs_target_train.shape)\n",
    "print(hs_target_test.shape)"
   ]
  },
  {
   "cell_type": "markdown",
   "metadata": {
    "collapsed": true
   },
   "source": [
    "## k-nearest (may not be best since there are only 6 useable high school data entries)"
   ]
  },
  {
   "cell_type": "code",
   "execution_count": 20,
   "metadata": {
    "collapsed": false
   },
   "outputs": [
    {
     "data": {
      "image/png": "[encoded data removed]",
      "text/plain": [
       "<matplotlib.figure.Figure at 0x115c29310>"
      ]
     },
     "metadata": {},
     "output_type": "display_data"
    }
   ],
   "source": [
    "import numpy as np\n",
    "import matplotlib.pyplot as plt\n",
    "from sklearn import neighbors\n",
    "\n",
    "n_neighbors = 3\n",
    "\n",
    "for weights in ['uniform', 'distance']:\n",
    "    # we create an instance of Neighbours Classifier and fit the data.\n",
    "    clf = neighbors.KNeighborsClassifier(n_neighbors, weights=weights)\n",
    "    clf.fit(hs_features_train, hs_target_train)\n",
    "    hs_pred = clf.predict(hs_features_test)\n",
    "    \n",
    "    colors = []\n",
    "\n",
    "    colors = (abs(hs_target_test - hs_pred))\n",
    "    \n",
    "    %matplotlib inline\n",
    "    \n",
    "    plt.figure()\n",
    "    plt.scatter(hs_target_test, hs_pred, c= colors)\n",
    "\n",
    "    # Plot also the training points\n",
    "    plt.title(\"Class classification (k = %i, weights = '%s')\"\n",
    "              % (n_neighbors, weights))"
   ]
  },
  {
   "cell_type": "code",
   "execution_count": 21,
   "metadata": {
    "collapsed": false
   },
   "outputs": [
    {
     "name": "stdout",
     "output_type": "stream",
     "text": [
      "[[ 0  1  0  2  2  3  0  0  0  0  0  0  0]\n",
      " [ 0  0  0  0  1  0  0  0  0  0  0  0  0]\n",
      " [ 2  3  1  0  0  0  1  0  0  0  0  0  0]\n",
      " [ 0  0  1  0  0  0  2  0  0  0  0  0  0]\n",
      " [ 1  1  0  0  2  5  1  0  2  0  0  0  2]\n",
      " [ 0  4  1  0  7 11  3  1  3  0  0  2  2]\n",
      " [ 1  0  0  0  0  2  2  1  0  0  1  1  2]\n",
      " [ 0  0  1  0  0  3  0  2  1  2  0  0  0]\n",
      " [ 0  0  0  1  0  7  1  2  3  4  1  2  0]\n",
      " [ 0  0  0  0  0  0  1  1  0  1  1  0  0]\n",
      " [ 0  0  0  0  0  0  0  0  0  0  0  1  0]\n",
      " [ 0  0  0  0  0  2  0  0  1  0  0  0  1]\n",
      " [ 0  0  0  0  0  1  0  0  1  0  0  0  0]]\n"
     ]
    },
    {
     "data": {
      "image/png": "[encoded data removed]",
      "text/plain": [
       "<matplotlib.figure.Figure at 0x115d94890>"
      ]
     },
     "metadata": {},
     "output_type": "display_data"
    }
   ],
   "source": [
    "from sklearn.metrics import confusion_matrix\n",
    "cm = confusion_matrix(hs_target_test, hs_pred)\n",
    "print(cm)\n",
    "plt.matshow(cm)\n",
    "plt.title('Confusion matrix')\n",
    "plt.colorbar()\n",
    "plt.ylabel('True label')\n",
    "plt.xlabel('Predicted label')\n",
    "plt.show()"
   ]
  },
  {
   "cell_type": "code",
   "execution_count": 22,
   "metadata": {
    "collapsed": false
   },
   "outputs": [
    {
     "name": "stdout",
     "output_type": "stream",
     "text": [
      "Adjusted Rand Score : 0.033398\n",
      "V measure score : 0.296879\n",
      "Adjusted Mutual Info score : 0.079235\n",
      "Mutual Info score : 0.660094\n"
     ]
    }
   ],
   "source": [
    "from sklearn import metrics \n",
    "#Computing various score metrics ( adapted from Daniel's adaptation of an example provided by scikit-learn)\n",
    "\n",
    "trueLabel = hs_target_test\n",
    "predLabel = hs_pred\n",
    "\n",
    "NB_ars = metrics.adjusted_rand_score(trueLabel, predLabel)\n",
    "NB_vms = metrics.v_measure_score(trueLabel, predLabel)\n",
    "NB_amis = metrics.adjusted_mutual_info_score(trueLabel, predLabel)\n",
    "NB_mis = metrics.mutual_info_score(trueLabel, predLabel)\n",
    "\n",
    "print(\"Adjusted Rand Score : %f\" %(NB_ars))\n",
    "print(\"V measure score : %f\" %(NB_vms))\n",
    "print(\"Adjusted Mutual Info score : %f\" %(NB_amis))\n",
    "print(\"Mutual Info score : %f\" % (NB_mis))"
   ]
  },
  {
   "cell_type": "markdown",
   "metadata": {},
   "source": [
    "## Naive Bayes"
   ]
  },
  {
   "cell_type": "code",
   "execution_count": 23,
   "metadata": {
    "collapsed": false
   },
   "outputs": [],
   "source": [
    "from sklearn import naive_bayes\n",
    "from sklearn import metrics\n",
    "\n",
    "gnb = naive_bayes.GaussianNB()\n",
    "gnb.fit(hs_features_train,hs_target_train)\n",
    "predict_c = gnb.predict(hs_features_test)"
   ]
  },
  {
   "cell_type": "code",
   "execution_count": 24,
   "metadata": {
    "collapsed": false
   },
   "outputs": [
    {
     "data": {
      "image/png": "[encoded data removed]",
      "text/plain": [
       "<matplotlib.figure.Figure at 0x115beb050>"
      ]
     },
     "metadata": {},
     "output_type": "display_data"
    }
   ],
   "source": [
    "cm = confusion_matrix(hs_target_test, predict_c)\n",
    "plt.matshow(cm)\n",
    "plt.title('Confusion matrix')\n",
    "plt.colorbar()\n",
    "plt.ylabel('True label')\n",
    "plt.xlabel('Predicted label')\n",
    "plt.show()"
   ]
  },
  {
   "cell_type": "code",
   "execution_count": 25,
   "metadata": {
    "collapsed": false
   },
   "outputs": [
    {
     "name": "stdout",
     "output_type": "stream",
     "text": [
      "Adjusted Rand Score : 0.016878\n",
      "V measure score : 0.233213\n",
      "Adjusted Mutual Info score : 0.033068\n",
      "Mutual Info score : 0.482457\n"
     ]
    }
   ],
   "source": [
    "#Computing various score metrics ( adapted from example provided by scikit-learn)\n",
    "\n",
    "trueLabel = hs_target_test\n",
    "predLabel = predict_c\n",
    "\n",
    "NB_ars = metrics.adjusted_rand_score(trueLabel, predLabel)\n",
    "NB_vms = metrics.v_measure_score(trueLabel, predLabel)\n",
    "NB_amis = metrics.adjusted_mutual_info_score(trueLabel, predLabel)\n",
    "NB_mis = metrics.mutual_info_score(trueLabel, predLabel)\n",
    "\n",
    "print(\"Adjusted Rand Score : %f\" %(NB_ars))\n",
    "print(\"V measure score : %f\" %(NB_vms))\n",
    "print(\"Adjusted Mutual Info score : %f\" %(NB_amis))\n",
    "print(\"Mutual Info score : %f\" % (NB_mis))"
   ]
  },
  {
   "cell_type": "markdown",
   "metadata": {},
   "source": [
    "### Decision Tree"
   ]
  },
  {
   "cell_type": "code",
   "execution_count": 26,
   "metadata": {
    "collapsed": false
   },
   "outputs": [
    {
     "name": "stdout",
     "output_type": "stream",
     "text": [
      "[  5.  10.   6.   6.   6.   6.   1.   6.   6.   2.   6.   6.   6.   2.   6.\n",
      "   6.   6.   6.   6.   6.   6.   6.   1.   6.   6.   6.   6.   6.   6.   6.\n",
      "   6.   6.   1.   6.   6.   6.   2.   4.   6.   6.   6.   6.   2.   6.   6.\n",
      "   6.   6.   2.  10.   6.   1.   6.   1.   2.   6.   6.   1.   6.   2.   5.\n",
      "   1.   6.   5.   6.   9.   6.   6.   6.   6.   6.   6.   6.  12.   5.   6.\n",
      "   6.   6.   6.   5.   6.   6.   6.   1.   2.   6.   1.   5.   2.   6.   6.\n",
      "   2.   5.   6.  12.   5.   6.   6.   6.   6.   6.   6.   2.   6.   7.   6.\n",
      "  12.   6.   6.   6.   6.   5.   6.   6.   6.   6.  12.   5.   6.]\n"
     ]
    }
   ],
   "source": [
    "from sklearn import cross_validation\n",
    "from sklearn import tree\n",
    "\n",
    "dt = tree.DecisionTreeClassifier(max_depth=4)\n",
    "dt.fit(hs_features_train, hs_target_train)\n",
    "hs_pred_dt = dt.predict(hs_features_test)\n",
    "\n",
    "print (hs_pred_dt)"
   ]
  },
  {
   "cell_type": "code",
   "execution_count": 27,
   "metadata": {
    "collapsed": false
   },
   "outputs": [
    {
     "name": "stdout",
     "output_type": "stream",
     "text": [
      "Accuracy: 0.21186440678\n",
      "AUC score: 0.598290598291\n"
     ]
    }
   ],
   "source": [
    "trueLabel = hs_target_test\n",
    "predLabel = hs_pred_dt\n",
    "\n",
    "\n",
    "from sklearn import metrics\n",
    "\n",
    "\n",
    "print \"Accuracy: \" + str(metrics.accuracy_score(trueLabel, predLabel))\n",
    "\n",
    "fpr, tpr, thresholds = metrics.roc_curve(trueLabel, predLabel, pos_label=2)\n",
    "print \"AUC score: \" + str(metrics.auc(fpr, tpr))"
   ]
  },
  {
   "cell_type": "markdown",
   "metadata": {},
   "source": [
    "## Decision Tree with binary grades"
   ]
  },
  {
   "cell_type": "code",
   "execution_count": 30,
   "metadata": {
    "collapsed": false
   },
   "outputs": [
    {
     "name": "stdout",
     "output_type": "stream",
     "text": [
      "[['10' '\"H\"' '\"ABRAHAM LINCOLN HIGH SCHOOL\"' ..., '0.3108808' '93'\n",
      "  '0.785714']\n",
      " ['15' '\"H\"' '\"ACADEMY OF CHARTER SCHOOLS\"' ..., '0.6125574' '15.5' 'NA']\n",
      " ['22' '\"H\"' '\"LESTER R ARNOLD HIGH SCHOOL\"' ..., '0' '51.3' 'NA']\n",
      " ..., \n",
      " ['9733' '\"H\"' '\"WRAY HIGH SCHOOL\"' ..., '0.5181347' '47.7' 'NA']\n",
      " ['9785' '\"H\"' '\"YOUTH & FAMILY ACADEMY CHARTER\"' ..., '0' '81.6' 'NA']\n",
      " ['9799' '\"H\"' '\"YUMA HIGH SCHOOL\"' ..., '0' '38.6' 'NA']]\n"
     ]
    }
   ],
   "source": [
    "data_2010_raw = np.loadtxt(\"./CleanedData/Data_2010.csv\", dtype='string', delimiter=\",\")\n",
    "\n",
    "#Using all the proportions\n",
    "ethnic_sample = [7,27,28,29,30,31,32,33]\n",
    "\n",
    "\n",
    "high_data_raw =[]\n",
    "\n",
    "\n",
    "for i in range(len(data_2010_raw)):\n",
    "     if data_2010_raw[i,1] == '\"H\"' and \"NA\" not in data_2010_raw[i, ethnic_sample] :\n",
    "        if int(data_2010_raw[i, 7]) < 5:\n",
    "            data_2010_raw[i,7] = 0\n",
    "            high_data_raw.append(data_2010_raw[i, :])\n",
    "        else:\n",
    "            data_2010_raw[i,7] = 1\n",
    "            high_data_raw.append(data_2010_raw[i, :])\n",
    "\n",
    "high_data_raw = np.asarray(high_data_raw)\n",
    "print high_data_raw"
   ]
  },
  {
   "cell_type": "code",
   "execution_count": 31,
   "metadata": {
    "collapsed": true
   },
   "outputs": [],
   "source": [
    "ethnic_hs_data = high_data_raw[:,ethnic_sample]\n",
    "\n",
    "\n",
    "hs_targets = ethnic_hs_data[:,0].astype(float)\n",
    "hs_features = ethnic_hs_data[:,1:].astype(float)"
   ]
  },
  {
   "cell_type": "code",
   "execution_count": 32,
   "metadata": {
    "collapsed": false
   },
   "outputs": [
    {
     "name": "stdout",
     "output_type": "stream",
     "text": [
      "[ 0.  1.  1.  1.  1.  1.  1.  1.  1.  1.  1.  1.  1.  1.  1.  1.  1.  1.\n",
      "  1.  1.  1.  1.  0.  1.  1.  1.  1.  1.  1.  1.  1.  1.  0.  1.  1.  1.\n",
      "  1.  1.  1.  1.  1.  1.  1.  1.  1.  1.  1.  0.  1.  1.  1.  1.  1.  0.\n",
      "  1.  1.  1.  1.  1.  1.  0.  1.  1.  1.  1.  1.  1.  1.  1.  1.  1.  1.\n",
      "  1.  1.  1.  1.  1.  1.  0.  1.  1.  1.  1.  1.  1.  1.  1.  1.  1.  1.\n",
      "  0.  1.  1.  1.  1.  1.  1.  1.  1.  1.  1.  1.  1.  1.  1.  1.  1.  1.\n",
      "  1.  1.  1.  1.  1.  1.  1.  1.  0.  1.]\n"
     ]
    }
   ],
   "source": [
    "from sklearn import cross_validation\n",
    "from sklearn import tree\n",
    "\n",
    "from sklearn.cross_validation import train_test_split\n",
    "hs_features_train, hs_features_test, hs_target_train, hs_target_test = train_test_split(hs_features, hs_targets, test_size=0.33, random_state=42)\n",
    "\n",
    "\n",
    "dt = tree.DecisionTreeClassifier(max_depth=4)\n",
    "dt.fit(hs_features_train, hs_target_train)\n",
    "hs_pred_dt = dt.predict(hs_features_test)\n",
    "\n",
    "print (hs_pred_dt)"
   ]
  },
  {
   "cell_type": "code",
   "execution_count": null,
   "metadata": {
    "collapsed": false
   },
   "outputs": [],
   "source": [
    "trueLabel = hs_target_test\n",
    "predLabel = hs_pred_dt\n",
    "\n",
    "\n",
    "from sklearn import metrics\n",
    "\n",
    "\n",
    "print \"Accuracy: \" + str(metrics.accuracy_score(trueLabel, predLabel))\n",
    "\n",
    "fpr, tpr, thresholds = metrics.roc_curve(trueLabel, predLabel, pos_label=1)\n",
    "print \"AUC score: \" + str(metrics.auc(fpr, tpr))"
   ]
  },
  {
   "cell_type": "code",
   "execution_count": null,
   "metadata": {
    "collapsed": false
   },
   "outputs": [],
   "source": [
    "## loop through and plot thing!\n",
    "\n",
    "import matplotlib.pyplot as plt\n",
    "\n",
    "% matplotlib inline\n",
    "x = range(1, 10)\n",
    "\n",
    "print x\n",
    "y = []\n",
    "for i in x:\n",
    "    print i \n",
    "    dt = tree.DecisionTreeClassifier(max_depth=i)\n",
    "    dt.fit(hs_features_train, hs_target_train)\n",
    "    hs_pred_dt = dt.predict(hs_features_test)\n",
    "    fpr, tpr, thresholds = metrics.roc_curve(hs_target_test, hs_pred_dt, pos_label=1)\n",
    "    y.append(metrics.auc(fpr, tpr))\n",
    "    \n",
    "\n",
    "plt.plot(x, y)"
   ]
  },
  {
   "cell_type": "markdown",
   "metadata": {
    "collapsed": true
   },
   "source": [
    "### lol "
   ]
  },
  {
   "cell_type": "markdown",
   "metadata": {},
   "source": [
    "Why is this decision tree so jankkkkk."
   ]
  },
  {
   "cell_type": "markdown",
   "metadata": {},
   "source": [
    "## That backwards stuff we talked about in class"
   ]
  },
  {
   "cell_type": "code",
   "execution_count": 33,
   "metadata": {
    "collapsed": false
   },
   "outputs": [
    {
     "name": "stdout",
     "output_type": "stream",
     "text": [
      "final total shape:  (6113, 36)\n",
      "print all viable shapes lol:  (1035, 36)\n"
     ]
    }
   ],
   "source": [
    "# get all the scores \n",
    "# see if scores will predict socioeconomic status with free/reduced lunch\n",
    "\n",
    "import numpy as np\n",
    "import sys\n",
    "\n",
    "data_2010_raw = np.loadtxt(\"./CleanedData/Data_2010.csv\", dtype=str, delimiter=\",\")\n",
    "data_2011_raw = np.loadtxt(\"./CleanedData/Data_2011.csv\",  delimiter=',', dtype=str)\n",
    "data_2012_raw = np.loadtxt(\"./CleanedData/Data_2012.csv\",  delimiter=',', dtype=str)\n",
    "\n",
    "\n",
    "#combine the data\n",
    "data_2010_raw = np.append(data_2010_raw, data_2011_raw, axis=0)\n",
    "data_2010_raw = np.append(data_2010_raw, data_2012_raw, axis=0)\n",
    "print \"final total shape: \", data_2010_raw.shape\n",
    "\n",
    "#Using all the proportions\n",
    "ethnic_sample = [7,27,28,29,30,31,32,33]\n",
    "status_sample = [18, 34, 35] #gradrate, lunchrate, remediationrate\n",
    "\n",
    "all_samples = np.append(ethnic_sample, status_sample)\n",
    "\n",
    "high_data_raw =[]\n",
    "for i in range(len(data_2010_raw)):\n",
    "     if data_2010_raw[i,1] == '\"H\"' and \"NA\" not in data_2010_raw[i, ethnic_sample]:\n",
    "        high_data_raw.append(data_2010_raw[i])\n",
    "\n",
    "high_data_raw = np.asarray(high_data_raw)\n",
    "print \"print all viable shapes lol: \", high_data_raw.shape\n",
    "\n",
    "\n"
   ]
  },
  {
   "cell_type": "code",
   "execution_count": 34,
   "metadata": {
    "collapsed": false
   },
   "outputs": [
    {
     "name": "stdout",
     "output_type": "stream",
     "text": [
      "col index overall achieved grades: 9\n"
     ]
    }
   ],
   "source": [
    "# get index of the thing we want lol\n",
    "data_2010_name = np.loadtxt(\"./CleanedData/Data_2010_Names.csv\", delimiter = \",\", dtype=\"string\")\n",
    "\n",
    "def getIndex(data_2010_name, toGet):\n",
    "    i = 0\n",
    "    for name in (data_2010_name):\n",
    "        if name == toGet:\n",
    "            return i\n",
    "        else:\n",
    "            i = i + 1\n",
    "    print -1\n",
    "\n",
    "\n",
    "print \"col index overall achieved grades:\", getIndex(data_2010_name, '\"OverallAchievedGrade\"')\n",
    "\n"
   ]
  },
  {
   "cell_type": "code",
   "execution_count": 35,
   "metadata": {
    "collapsed": false
   },
   "outputs": [
    {
     "name": "stdout",
     "output_type": "stream",
     "text": [
      "achieved grades  (1027,)\n",
      "lunch targets to predict (1027,)\n"
     ]
    }
   ],
   "source": [
    "#converting data to trinary\n",
    "\n",
    "hs_features = []\n",
    "hs_grad_target = []\n",
    "hs_lunch_targets = []\n",
    "hs_remediation_targets = []\n",
    "\n",
    "for i in range(len(high_data_raw)):\n",
    "    if \"NA\" not in high_data_raw[i, 9] and \"NA\" not in high_data_raw[i, 34]:\n",
    "        if int(high_data_raw[i, 9]) > 9:\n",
    "            hs_features.append(2)\n",
    "        elif int(high_data_raw[i, 9]) > 5:\n",
    "            hs_features.append(1)\n",
    "        else:\n",
    "            hs_features.append(0)\n",
    "        if float(high_data_raw[i, 34]) > 67:\n",
    "            hs_lunch_targets.append(2)\n",
    "        elif float(high_data_raw[i, 34]) > 33:\n",
    "            hs_lunch_targets.append(1)\n",
    "        else:\n",
    "            hs_lunch_targets.append(0)\n",
    "\n",
    "hs_features = np.array(hs_features)\n",
    "hs_lunch_targets = np.array(hs_lunch_targets)\n",
    "print \"achieved grades \", hs_features.shape\n",
    "print \"lunch targets to predict\", hs_lunch_targets.shape\n"
   ]
  },
  {
   "cell_type": "code",
   "execution_count": 58,
   "metadata": {
    "collapsed": false
   },
   "outputs": [
    {
     "ename": "ValueError",
     "evalue": "Number of features of the model must  match the input. Model n_features is 688 and  input n_features is 339 ",
     "output_type": "error",
     "traceback": [
      "\u001b[0;31m---------------------------------------------------------------------------\u001b[0m",
      "\u001b[0;31mValueError\u001b[0m                                Traceback (most recent call last)",
      "\u001b[0;32m<ipython-input-58-6b7b96316883>\u001b[0m in \u001b[0;36m<module>\u001b[0;34m()\u001b[0m\n\u001b[1;32m     12\u001b[0m \u001b[0mdt\u001b[0m \u001b[0;34m=\u001b[0m \u001b[0mtree\u001b[0m\u001b[0;34m.\u001b[0m\u001b[0mDecisionTreeClassifier\u001b[0m\u001b[0;34m(\u001b[0m\u001b[0mmax_depth\u001b[0m\u001b[0;34m=\u001b[0m\u001b[0;36m3\u001b[0m\u001b[0;34m)\u001b[0m\u001b[0;34m\u001b[0m\u001b[0m\n\u001b[1;32m     13\u001b[0m \u001b[0mdt\u001b[0m\u001b[0;34m.\u001b[0m\u001b[0mfit\u001b[0m\u001b[0;34m(\u001b[0m\u001b[0mfeatures_train\u001b[0m\u001b[0;34m,\u001b[0m \u001b[0mtarget_train\u001b[0m\u001b[0;34m)\u001b[0m\u001b[0;34m\u001b[0m\u001b[0m\n\u001b[0;32m---> 14\u001b[0;31m \u001b[0mpred_dt\u001b[0m \u001b[0;34m=\u001b[0m \u001b[0mdt\u001b[0m\u001b[0;34m.\u001b[0m\u001b[0mpredict\u001b[0m\u001b[0;34m(\u001b[0m\u001b[0mfeatures_test\u001b[0m\u001b[0;34m)\u001b[0m\u001b[0;34m\u001b[0m\u001b[0m\n\u001b[0m\u001b[1;32m     15\u001b[0m \u001b[0;34m\u001b[0m\u001b[0m\n",
      "\u001b[0;32m/opt/local/Library/Frameworks/Python.framework/Versions/2.7/lib/python2.7/site-packages/sklearn/tree/tree.pyc\u001b[0m in \u001b[0;36mpredict\u001b[0;34m(self, X)\u001b[0m\n\u001b[1;32m    344\u001b[0m                              \u001b[0;34m\" match the input. Model n_features is %s and \"\u001b[0m\u001b[0;34m\u001b[0m\u001b[0m\n\u001b[1;32m    345\u001b[0m                              \u001b[0;34m\" input n_features is %s \"\u001b[0m\u001b[0;34m\u001b[0m\u001b[0m\n\u001b[0;32m--> 346\u001b[0;31m                              % (self.n_features_, n_features))\n\u001b[0m\u001b[1;32m    347\u001b[0m \u001b[0;34m\u001b[0m\u001b[0m\n\u001b[1;32m    348\u001b[0m         \u001b[0mproba\u001b[0m \u001b[0;34m=\u001b[0m \u001b[0mself\u001b[0m\u001b[0;34m.\u001b[0m\u001b[0mtree_\u001b[0m\u001b[0;34m.\u001b[0m\u001b[0mpredict\u001b[0m\u001b[0;34m(\u001b[0m\u001b[0mX\u001b[0m\u001b[0;34m)\u001b[0m\u001b[0;34m\u001b[0m\u001b[0m\n",
      "\u001b[0;31mValueError\u001b[0m: Number of features of the model must  match the input. Model n_features is 688 and  input n_features is 339 "
     ]
    }
   ],
   "source": [
    "# try predicting socioeconomic status with achieved grades\n",
    "from sklearn.cross_validation import train_test_split\n",
    "from sklearn import tree\n",
    "\n",
    "\n",
    "features_train, features_test, target_train, target_test = train_test_split(hs_features, hs_lunch_targets, test_size=0.33, random_state=42)\n",
    "#target_train = list(target_train)\n",
    "#print hs_target_train\n",
    "#print features_train\n",
    "target_train= np.array(target_train)[np.newaxis]\n",
    "#print target_train.shape\n",
    "dt = tree.DecisionTreeClassifier(max_depth=3)\n",
    "dt.fit(features_train, target_train)\n",
    "pred_dt = dt.predict(features_test)\n",
    "\n"
   ]
  },
  {
   "cell_type": "code",
   "execution_count": null,
   "metadata": {
    "collapsed": true
   },
   "outputs": [],
   "source": []
  },
  {
   "cell_type": "code",
   "execution_count": null,
   "metadata": {
    "collapsed": true
   },
   "outputs": [],
   "source": []
  },
  {
   "cell_type": "code",
   "execution_count": null,
   "metadata": {
    "collapsed": true
   },
   "outputs": [],
   "source": []
  },
  {
   "cell_type": "code",
   "execution_count": null,
   "metadata": {
    "collapsed": true
   },
   "outputs": [],
   "source": []
  },
  {
   "cell_type": "code",
   "execution_count": null,
   "metadata": {
    "collapsed": true
   },
   "outputs": [],
   "source": []
  },
  {
   "cell_type": "code",
   "execution_count": null,
   "metadata": {
    "collapsed": true
   },
   "outputs": [],
   "source": []
  },
  {
   "cell_type": "code",
   "execution_count": null,
   "metadata": {
    "collapsed": true
   },
   "outputs": [],
   "source": []
  },
  {
   "cell_type": "code",
   "execution_count": null,
   "metadata": {
    "collapsed": true
   },
   "outputs": [],
   "source": []
  },
  {
   "cell_type": "code",
   "execution_count": null,
   "metadata": {
    "collapsed": true
   },
   "outputs": [],
   "source": [
    "## GRADIENT DESCENT\n",
    "\n",
    "## GRAPHLAB REGRESSION"
   ]
  },
  {
   "cell_type": "code",
   "execution_count": null,
   "metadata": {
    "collapsed": true
   },
   "outputs": [],
   "source": []
  }
 ],
 "metadata": {
  "kernelspec": {
   "display_name": "Python 2",
   "language": "python",
   "name": "python2"
  },
  "language_info": {
   "codemirror_mode": {
    "name": "ipython",
    "version": 2
   },
   "file_extension": ".py",
   "mimetype": "text/x-python",
   "name": "python",
   "nbconvert_exporter": "python",
   "pygments_lexer": "ipython2",
   "version": "2.7.9"
  }
 },
 "nbformat": 4,
 "nbformat_minor": 0
}
