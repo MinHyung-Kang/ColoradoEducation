{
 "cells": [
  {
   "cell_type": "markdown",
   "metadata": {},
   "source": [
    "# Colorado Education Data\n",
    "### Nancy, Daniel, Eunice"
   ]
  },
  {
   "cell_type": "markdown",
   "metadata": {},
   "source": [
    "### Outline"
   ]
  },
  {
   "cell_type": "markdown",
   "metadata": {},
   "source": [
    "Using 3 years of school grading data of Colorado Public Schools, we attemp to uncover relationship between various factors of public education system"
   ]
  },
  {
   "cell_type": "markdown",
   "metadata": {},
   "source": [
    "## Part I : Data Exploration"
   ]
  },
  {
   "cell_type": "markdown",
   "metadata": {},
   "source": [
    "Note : the data was supplied by Kaggle.com. Data was organized and was put into one file using R script Data_Cleaning.R.\n"
   ]
  },
  {
   "cell_type": "markdown",
   "metadata": {},
   "source": [
    "### 1. Get Data"
   ]
  },
  {
   "cell_type": "markdown",
   "metadata": {},
   "source": [
    "#### a. Load Type"
   ]
  },
  {
   "cell_type": "code",
   "execution_count": 2,
   "metadata": {
    "collapsed": false
   },
   "outputs": [
    {
     "data": {
      "text/plain": [
       "array(['\"integer\"', '\"character\"', '\"character\"', '\"integer\"',\n",
       "       '\"character\"', '\"character\"', '\"integer\"', '\"integer\"', '\"integer\"',\n",
       "       '\"integer\"', '\"integer\"', '\"integer\"', '\"integer\"', '\"integer\"',\n",
       "       '\"integer\"', '\"integer\"', '\"integer\"', '\"integer\"', '\"numeric\"',\n",
       "       '\"integer\"', '\"integer\"', '\"integer\"', '\"integer\"', '\"integer\"',\n",
       "       '\"integer\"', '\"integer\"', '\"integer\"', '\"numeric\"', '\"numeric\"',\n",
       "       '\"numeric\"', '\"numeric\"', '\"numeric\"', '\"numeric\"', '\"numeric\"',\n",
       "       '\"numeric\"', '\"numeric\"'], \n",
       "      dtype='|S11')"
      ]
     },
     "execution_count": 2,
     "metadata": {},
     "output_type": "execute_result"
    }
   ],
   "source": [
    "import numpy as np\n",
    "import sys\n",
    "\n",
    "data_2010_type = np.loadtxt(\"./Data_2010_Type.csv\", delimiter = \",\", dtype=\"string\")\n",
    "data_2010_type"
   ]
  },
  {
   "cell_type": "markdown",
   "metadata": {},
   "source": [
    "#### b. Load Name"
   ]
  },
  {
   "cell_type": "code",
   "execution_count": 4,
   "metadata": {
    "collapsed": false
   },
   "outputs": [
    {
     "data": {
      "text/plain": [
       "array(['\"SchoolNumber\"', '\"EMH\"', '\"SchoolName\"', '\"DistrictNumber\"',\n",
       "       '\"DistrictName\"', '\"EMHcombined\"', '\"AlternativeSchool\"',\n",
       "       '\"SchoolGrade\"', '\"RankTotal\"', '\"OverallAchievedGrade\"',\n",
       "       '\"ReadingAchievedGrade\"', '\"MathAchievedGrade\"',\n",
       "       '\"WritingAchievedGrade\"', '\"ScienceAcheivedGrade\"',\n",
       "       '\"OverallGrowthGrade\"', '\"ReadingGrowthGrade\"', '\"MathGrowthGrade\"',\n",
       "       '\"WritingGrowthGrade\"', '\"GraduationRate\"', '\"ProficiencyTrend\"',\n",
       "       '\"GrowthTrend\"', '\"OverallTrend\"', '\"ACTEnglish\"', '\"ACTMath\"',\n",
       "       '\"ACTReading\"', '\"ACTScience\"', '\"TotalStudents\"',\n",
       "       '\"PercentAmericanIndian\"', '\"PercentAsian\"', '\"PercentBlack\"',\n",
       "       '\"PercentHispanic\"', '\"PercentWhite\"', '\"PercentPacificIslander\"',\n",
       "       '\"PercentTwoOrMoreRace\"', '\"PercentFreeOrReducedLunch\"',\n",
       "       '\"RemediationRate\"'], \n",
       "      dtype='|S27')"
      ]
     },
     "execution_count": 4,
     "metadata": {},
     "output_type": "execute_result"
    }
   ],
   "source": [
    "data_2010_name = np.loadtxt(\"./Data_2010_Names.csv\", delimiter = \",\", dtype=\"string\")\n",
    "data_2010_name"
   ]
  },
  {
   "cell_type": "markdown",
   "metadata": {},
   "source": [
    "#### c. Load Data"
   ]
  },
  {
   "cell_type": "code",
   "execution_count": 47,
   "metadata": {
    "collapsed": false
   },
   "outputs": [
    {
     "name": "stdout",
     "output_type": "stream",
     "text": [
      "(2082L, 36L)\n"
     ]
    },
    {
     "data": {
      "text/plain": [
       "array([['10', '\"H\"', '\"ABRAHAM LINCOLN HIGH SCHOOL\"', '880',\n",
       "        '\"DENVER COUNTY 1\"', '\"\"', '0', '5', '285', '3', '3', '5', '3',\n",
       "        '2', '7', '7', '6', '7', '65.9', '3', '2', '1', '0', '0', '0', '0',\n",
       "        '1930', '0.9326425', '2.9015544', '0.984456', '91.6580311',\n",
       "        '3.1606218', '0.0518135', '0.3108808', '93', '0.785714'],\n",
       "       ['11', '\"E\"', '\"ACADEMY CHARTER SCHOOL\"', '900',\n",
       "        '\"DOUGLAS COUNTY RE 1\"', '\"\"', '0', '12', '102', '10', '9', '12',\n",
       "        '9', '9', '12', '12', '12', '6', 'NA', '3', '2', '2', 'NA', 'NA',\n",
       "        'NA', 'NA', '700', '0.2857143', '2.1428571', '0.2857143',\n",
       "        '10.4285714', '83.5714286', '0', '3.2857143', '8', 'NA']], \n",
       "      dtype='|S52')"
      ]
     },
     "execution_count": 47,
     "metadata": {},
     "output_type": "execute_result"
    }
   ],
   "source": [
    "#data_2010 = np.genfromtxt('./Data_2010.csv', delimiter=',', dtype=data_types)\n",
    "data_2010_raw = np.loadtxt(\"./Data_2010.csv\",  delimiter=',', dtype=str)\n",
    "#data_2010_raw = np.genfromtxt(\"./Data_2010.csv\", dtype = \"i4,|S10\", usecols=(0,1), delimiter=',')\n",
    "print data_2010_raw.shape\n",
    "data_2010_raw\n",
    "num_records = data_2010_raw.shape[0]\n",
    "num_features = data_2010_raw.shape[1]\n",
    "data_2010_raw[0:2,0:num_features]\n",
    "        "
   ]
  },
  {
   "cell_type": "markdown",
   "metadata": {},
   "source": [
    "Convert data to all-numeric"
   ]
  },
  {
   "cell_type": "code",
   "execution_count": 82,
   "metadata": {
    "collapsed": false
   },
   "outputs": [
    {
     "name": "stdout",
     "output_type": "stream",
     "text": [
      "(2082L, 36L)\n"
     ]
    },
    {
     "data": {
      "text/plain": [
       "array([  1.00000000e+01,  -1.00000000e+00,  -1.00000000e+00,\n",
       "         8.80000000e+02,  -1.00000000e+00,  -1.00000000e+00,\n",
       "         0.00000000e+00,   5.00000000e+00,   2.85000000e+02,\n",
       "         3.00000000e+00,   3.00000000e+00,   5.00000000e+00,\n",
       "         3.00000000e+00,   2.00000000e+00,   7.00000000e+00,\n",
       "         7.00000000e+00,   6.00000000e+00,   7.00000000e+00,\n",
       "         6.59000000e+01,   3.00000000e+00,   2.00000000e+00,\n",
       "         1.00000000e+00,   0.00000000e+00,   0.00000000e+00,\n",
       "         0.00000000e+00,   0.00000000e+00,   1.93000000e+03,\n",
       "         9.32642500e-01,   2.90155440e+00,   9.84456000e-01,\n",
       "         9.16580311e+01,   3.16062180e+00,   5.18135000e-02,\n",
       "         3.10880800e-01,   9.30000000e+01,   0.00000000e+00])"
      ]
     },
     "execution_count": 82,
     "metadata": {},
     "output_type": "execute_result"
    }
   ],
   "source": [
    "data_2010 = np.zeros((num_records,num_features))\n",
    "\n",
    "for j in range(num_features-1):\n",
    "    type = data_2010_type[j].lstrip('\"').rstrip('\"')\n",
    "    if type =='numeric':\n",
    "        for i in range(num_records) : \n",
    "            val = data_2010_raw[i][j].lstrip(\"'\").rstrip(\"'\")\n",
    "            if(val != 'NA') : \n",
    "                data_2010[i,j] = float(val)\n",
    "            else : \n",
    "                data_2010[i,j] = -1\n",
    "    elif type == 'integer':\n",
    "        for i in range(num_records) : \n",
    "            val = data_2010_raw[i][j].lstrip(\"'\").rstrip(\"'\")\n",
    "            if(val != 'NA') : \n",
    "                data_2010[i,j] = int(val)\n",
    "            else : \n",
    "                data_2010[i,j] = -1\n",
    "    else : \n",
    "        string_to_num = {}\n",
    "        dummy = 0\n",
    "        for i in range(num_records) : \n",
    "            key =data_2010_raw[i][j].lstrip(\"'\").rstrip(\"'\") \n",
    "            if(key == 'NA' or key.isspace) : \n",
    "                data_2010[i,j] = -1\n",
    "            elif key in string_to_num.keys():\n",
    "                data_2010[i,j] = string_to_num[key]\n",
    "            else :\n",
    "                string_to_num[key] = dummy\n",
    "                data_2010[i,j] = dummy\n",
    "                dummy += 1\n",
    "                \n",
    "print data_2010.shape\n",
    "data_2010[0,:]"
   ]
  },
  {
   "cell_type": "markdown",
   "metadata": {},
   "source": [
    "##### One can access the actual string values from : data_2010_raw\n",
    "##### One can access all-numeric version (each unique string gets a different number assigned) from : data_2010\n",
    "Note that all NA vals are indicated as -1"
   ]
  },
  {
   "cell_type": "code",
   "execution_count": 77,
   "metadata": {
    "collapsed": false
   },
   "outputs": [
    {
     "name": "stdout",
     "output_type": "stream",
     "text": [
      "['\"H\"' '\"E\"' '\"M\"' '\"E\"' '\"E\"' '\"E\"' '\"H\"' '\"M\"' '\"E\"' '\"E\"']\n",
      "[-1. -1. -1. -1. -1. -1. -1. -1. -1. -1.]\n",
      "['\"\"' '\"\"' '\"\"' '\"\"' '\"\"' '\"\"' '\"\"' '\"\"' '\"\"' '\"\"']\n",
      "[-1. -1. -1. -1. -1. -1. -1. -1. -1. -1.]\n"
     ]
    }
   ],
   "source": [
    "print data_2010_raw[0:10,1]\n",
    "print data_2010[0:10,1]\n",
    "print data_2010_raw[0:10,5]\n",
    "print data_2010[0:10,5]"
   ]
  },
  {
   "cell_type": "markdown",
   "metadata": {},
   "source": [
    "#### d. Load CodeBook"
   ]
  },
  {
   "cell_type": "code",
   "execution_count": 57,
   "metadata": {
    "collapsed": false
   },
   "outputs": [
    {
     "data": {
      "text/plain": [
       "array([['SchoolNumber', 'Integer of School (Unique)'],\n",
       "       ['EMH', 'E(Elementary) M(Middle) H(High)'],\n",
       "       ['SchoolName', 'String of School Name'],\n",
       "       ['DistrictNumber', 'Integer of District'],\n",
       "       ['DistrictName', 'String of District Name'],\n",
       "       ['EMHcombined',\n",
       "        'EM / MH/ EMH (Combination of E/M/H to show which grades this school has or empty if only one school)'],\n",
       "       ['AlternativeSchool', '1 - 2 (1 : Yes / 2 : No)'],\n",
       "       ['SchoolGrade', '1 - 13 (13 being A+  1 being F)'],\n",
       "       ['RankTotal', 'Total ranking out of all schools'],\n",
       "       ['OverallAchievedGrade', '1 - 13 (13 being A+  1 being F)'],\n",
       "       ['ReadingAchievedGrade', '1 - 13 (13 being A+  1 being F)'],\n",
       "       ['MathAchievedGrade', '1 - 13 (13 being A+  1 being F)'],\n",
       "       ['WritingAchievedGrade', '1 - 13 (13 being A+  1 being F)'],\n",
       "       ['ScienceAcheivedGrade', '1 - 13 (13 being A+  1 being F)'],\n",
       "       ['OverallGrowthGrade', '1 - 13 (13 being A+  1 being F)'],\n",
       "       ['ReadingGrowthGrade', '1 - 13 (13 being A+  1 being F)'],\n",
       "       ['MathGrowthGrade', '1 - 13 (13 being A+  1 being F)'],\n",
       "       ['WritingGrowthGrade', '1 - 13 (13 being A+  1 being F)'],\n",
       "       ['GraduationRate', 'Percent'],\n",
       "       ['ProficiencyTrend',\n",
       "        '1 - 3 (1 : Arrow Down 2 : Arrow Flat 3 : Arrow Up)'],\n",
       "       ['GrowthTrend', '1 - 3 (1 : Arrow Down 2 : Arrow Flat 3 : Arrow Up)'],\n",
       "       ['OverallTrend',\n",
       "        '1 - 3 (1 : Arrow Down 2 : Arrow Flat 3 : Arrow Up)'],\n",
       "       ['ACTEnglish', '1 - 2 (1 : Yes /  2 : No)'],\n",
       "       ['ACTMath', '1 - 2 (1 : Yes /  2 : No)'],\n",
       "       ['ACTReading', '1 - 2 (1 : Yes /  2 : No)'],\n",
       "       ['ACTScience', '1 - 2 (1 : Yes /  2 : No)'],\n",
       "       ['TotalStudents', 'Number of students'],\n",
       "       ['PercentAmericanIndian', 'Percent'],\n",
       "       ['PercentAsian', 'Percent'],\n",
       "       ['PercentBlack', 'Percent'],\n",
       "       ['PercentHispanic', 'Percent'],\n",
       "       ['PercentWhite', 'Percent'],\n",
       "       ['PercentPacificIslander', 'Percent'],\n",
       "       ['PercentTwoOrMoreRace', 'Percent'],\n",
       "       ['PercentFreeOrReducedLunch', 'Percent'],\n",
       "       ['RemediationRate', 'Percent']], \n",
       "      dtype='|S100')"
      ]
     },
     "execution_count": 57,
     "metadata": {},
     "output_type": "execute_result"
    }
   ],
   "source": [
    "data_2010_codebook = np.loadtxt(\"./Data_2010_CodeBook.csv\", delimiter = \",\", dtype=\"string\",skiprows=1)\n",
    "data_2010_codebook"
   ]
  },
  {
   "cell_type": "markdown",
   "metadata": {},
   "source": [
    "One can access the codebook as following : "
   ]
  },
  {
   "cell_type": "code",
   "execution_count": 26,
   "metadata": {
    "collapsed": false
   },
   "outputs": [
    {
     "name": "stdout",
     "output_type": "stream",
     "text": [
      "Name : EMH / Content :  E(Elementary) M(Middle) H(High)\n"
     ]
    }
   ],
   "source": [
    "print \"Name : \" + data_2010_codebook[2][0] + \" / Content :  \" + data_2010_codebook[2][1]"
   ]
  },
  {
   "cell_type": "markdown",
   "metadata": {},
   "source": [
    "### 2. Explore Data\n"
   ]
  },
  {
   "cell_type": "markdown",
   "metadata": {},
   "source": [
    "NOTE : WATCH OUT WHEN WE ARE EXPLORING DATA. Total grade was calculated using factors such as ACT, grade growth, and achievement grade...etc.  So there won't be much point looking at correlatoin between Total score and ACT_reading, for example. We should focus on correlation/relationship between the environmental factors such as location (district), FRL(free or reduced lunch price rate), race proportion with grade. "
   ]
  }
 ],
 "metadata": {
  "kernelspec": {
   "display_name": "Python 2",
   "language": "python",
   "name": "python2"
  },
  "language_info": {
   "codemirror_mode": {
    "name": "ipython",
    "version": 2
   },
   "file_extension": ".py",
   "mimetype": "text/x-python",
   "name": "python",
   "nbconvert_exporter": "python",
   "pygments_lexer": "ipython2",
   "version": "2.7.10"
  }
 },
 "nbformat": 4,
 "nbformat_minor": 0
}
